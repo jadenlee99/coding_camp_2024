{
 "cells": [
  {
   "cell_type": "code",
   "execution_count": 1,
   "metadata": {},
   "outputs": [
    {
     "name": "stdout",
     "output_type": "stream",
     "text": [
      "Encoded contents have been written to /Users/Jaden/Documents/test2\n"
     ]
    }
   ],
   "source": [
    "def reverse_words(line):\n",
    "    words = line.strip().split()\n",
    "    reversed_line = ' '.join(reversed(words))\n",
    "    return reversed_line\n",
    "\n",
    "def process_files(input_file, output_file):\n",
    "    try:\n",
    "        with open(input_file, 'r') as infile:\n",
    "            lines = infile.readlines()\n",
    "\n",
    "        with open(output_file, 'w') as outfile:\n",
    "            for line in lines:\n",
    "                encoded_line = reverse_words(line)\n",
    "                outfile.write(encoded_line + '\\n')\n",
    "\n",
    "        print(f'Encoded contents have been written to {output_file}')\n",
    "\n",
    "    except FileNotFoundError:\n",
    "        print('File does not exist.')\n",
    "    except Exception as e:\n",
    "        print(f'An error occurred: {e}')\n",
    "\n",
    "input_file = input('Enter the input file path: ')\n",
    "output_file = input('Enter the output file path: ')\n",
    "\n",
    "process_files(input_file, output_file)"
   ]
  }
 ],
 "metadata": {
  "kernelspec": {
   "display_name": "env1",
   "language": "python",
   "name": "python3"
  },
  "language_info": {
   "codemirror_mode": {
    "name": "ipython",
    "version": 3
   },
   "file_extension": ".py",
   "mimetype": "text/x-python",
   "name": "python",
   "nbconvert_exporter": "python",
   "pygments_lexer": "ipython3",
   "version": "3.12.4"
  }
 },
 "nbformat": 4,
 "nbformat_minor": 2
}
