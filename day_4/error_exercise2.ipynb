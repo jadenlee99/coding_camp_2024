{
 "cells": [
  {
   "cell_type": "code",
   "execution_count": 11,
   "metadata": {},
   "outputs": [],
   "source": [
    "def print_value(dictionary, key):\n",
    "    try:\n",
    "        print(dictionary[key])\n",
    "    except KeyError:\n",
    "        pass\n",
    "\n",
    "my_dict = {'name': 'Jaden', 'age': 24, 'city': 'New York'}\n",
    "\n",
    "my_key = input(\"Enter the key: \")\n",
    "\n",
    "print_value(my_dict, my_key)"
   ]
  }
 ],
 "metadata": {
  "kernelspec": {
   "display_name": "env1",
   "language": "python",
   "name": "python3"
  },
  "language_info": {
   "codemirror_mode": {
    "name": "ipython",
    "version": 3
   },
   "file_extension": ".py",
   "mimetype": "text/x-python",
   "name": "python",
   "nbconvert_exporter": "python",
   "pygments_lexer": "ipython3",
   "version": "3.12.4"
  }
 },
 "nbformat": 4,
 "nbformat_minor": 2
}
