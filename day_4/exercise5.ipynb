{
 "cells": [
  {
   "cell_type": "code",
   "execution_count": 6,
   "metadata": {},
   "outputs": [],
   "source": [
    "def first_nlines(filename, n):\n",
    "    lines = []\n",
    "    try:\n",
    "        with open(filename, 'r') as file:\n",
    "            lines = file.readlines()\n",
    "            lines =  lines[:n]\n",
    "    except Exception as e:\n",
    "        print(f'An error occurred while reading {filename}: {e}')\n",
    "    return lines\n",
    "\n",
    "def last_nlines(filename, n):\n",
    "    lines = []\n",
    "    try:\n",
    "        with open(filename, 'r') as file:\n",
    "            lines = file.readlines()\n",
    "            lines = lines[-n:]\n",
    "    except Exception as e:\n",
    "        print(f'An error occurred while reading {filename}: {e}')\n",
    "    return lines\n",
    "\n",
    "def except_first_last(filename, first_n, last_n):\n",
    "    lines = []\n",
    "    try:\n",
    "        with open(filename, 'r') as file:\n",
    "            lines = file.readlines()\n",
    "            lines = lines[first_n:-last_n]\n",
    "    except Exception as e:\n",
    "        print(f'An error occurred while reading {filename}: {e}')\n",
    "    return lines"
   ]
  },
  {
   "cell_type": "code",
   "execution_count": 7,
   "metadata": {},
   "outputs": [],
   "source": [
    "def remove_extension(filename):\n",
    "    if '.' in filename:\n",
    "        filename = filename.rsplit('.', 1)[0]\n",
    "    return filename"
   ]
  },
  {
   "cell_type": "code",
   "execution_count": 8,
   "metadata": {},
   "outputs": [
    {
     "name": "stdout",
     "output_type": "stream",
     "text": [
      "kimlab.suffix has been created successfully.\n"
     ]
    }
   ],
   "source": [
    "def combined_file(file_a, file_b, file_c):\n",
    "    file_c_stem = remove_extension(file_c)\n",
    "    output_file = f'{file_c_stem}.suffix'\n",
    "    \n",
    "    try:\n",
    "        lines_a = first_nlines(file_a, 5)\n",
    "        lines_c = except_first_last(file_c, 2, 2)\n",
    "        lines_b = last_nlines(file_b, 5)\n",
    "\n",
    "        with open(output_file, 'w') as file:\n",
    "            file.writelines(lines_a)\n",
    "            file.writelines(lines_c)\n",
    "            file.writelines(lines_b)\n",
    "\n",
    "        print(f'{output_file} has been created successfully.')\n",
    "\n",
    "    except Exception as e:\n",
    "        print(f'An error occurred while creating {output_file}: {e}')\n",
    "\n",
    "file_a = input('Enter the path for file A: ')\n",
    "file_b = input('Enter the path for file B: ')\n",
    "file_c = input('Enter the path for file C: ')\n",
    "\n",
    "combined_file(file_a, file_b, file_c)"
   ]
  }
 ],
 "metadata": {
  "kernelspec": {
   "display_name": "env1",
   "language": "python",
   "name": "python3"
  },
  "language_info": {
   "codemirror_mode": {
    "name": "ipython",
    "version": 3
   },
   "file_extension": ".py",
   "mimetype": "text/x-python",
   "name": "python",
   "nbconvert_exporter": "python",
   "pygments_lexer": "ipython3",
   "version": "3.12.4"
  }
 },
 "nbformat": 4,
 "nbformat_minor": 2
}
