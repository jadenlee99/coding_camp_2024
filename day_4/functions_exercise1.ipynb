{
 "cells": [
  {
   "cell_type": "code",
   "execution_count": 3,
   "metadata": {},
   "outputs": [
    {
     "name": "stdout",
     "output_type": "stream",
     "text": [
      "Make lemonade.\n"
     ]
    }
   ],
   "source": [
    "def action(item):\n",
    "    if item in ['lemon', 'lemons']:\n",
    "        return 'Make lemonade.'\n",
    "    elif item in ['orange', 'oranges']:\n",
    "        return 'Make orange juice.'\n",
    "    elif item == 'money':\n",
    "        return 'Buy oranges or lemons to make lemonade or orange juice.'\n",
    "    elif item == 'love':\n",
    "        return 'Love is not an item!'\n",
    "    else:\n",
    "        return 'Try other message.'\n",
    "    \n",
    "item = input('Give me an item: ')\n",
    "print(action(item))"
   ]
  }
 ],
 "metadata": {
  "kernelspec": {
   "display_name": "env1",
   "language": "python",
   "name": "python3"
  },
  "language_info": {
   "codemirror_mode": {
    "name": "ipython",
    "version": 3
   },
   "file_extension": ".py",
   "mimetype": "text/x-python",
   "name": "python",
   "nbconvert_exporter": "python",
   "pygments_lexer": "ipython3",
   "version": "3.12.4"
  }
 },
 "nbformat": 4,
 "nbformat_minor": 2
}
