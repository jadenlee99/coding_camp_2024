{
 "cells": [
  {
   "cell_type": "code",
   "execution_count": 1,
   "metadata": {},
   "outputs": [
    {
     "name": "stdout",
     "output_type": "stream",
     "text": [
      "kimlab.txt has been created with content.\n",
      "patonlab.txt has been created with content.\n"
     ]
    }
   ],
   "source": [
    "kimlab_content = [\n",
    "    'Kim: PI',\n",
    "    'Lee: Visitor',\n",
    "    'Jung: PhD',\n",
    "    'Song: Postdoc'\n",
    "]\n",
    "\n",
    "patonlab_content = [\n",
    "    'Paton: PI',\n",
    "    'Lee: Visitor',\n",
    "    'Jung: PhD',\n",
    "    'Song: Postdoc'\n",
    "]\n",
    "\n",
    "def create_file(filename, content):\n",
    "    try:\n",
    "        with open(filename, 'w') as file:\n",
    "            for line in content:\n",
    "                file.write(line + '\\n')\n",
    "        print(f'{filename} has been created with content.')\n",
    "\n",
    "    except Exception as e:\n",
    "        print(f'An error occurred while creating {filename}: {e}')\n",
    "\n",
    "create_file('kimlab.txt', kimlab_content)\n",
    "create_file('patonlab.txt', patonlab_content)"
   ]
  }
 ],
 "metadata": {
  "kernelspec": {
   "display_name": "env1",
   "language": "python",
   "name": "python3"
  },
  "language_info": {
   "codemirror_mode": {
    "name": "ipython",
    "version": 3
   },
   "file_extension": ".py",
   "mimetype": "text/x-python",
   "name": "python",
   "nbconvert_exporter": "python",
   "pygments_lexer": "ipython3",
   "version": "3.12.4"
  }
 },
 "nbformat": 4,
 "nbformat_minor": 2
}
