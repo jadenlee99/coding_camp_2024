{
 "cells": [
  {
   "cell_type": "code",
   "execution_count": 1,
   "metadata": {},
   "outputs": [
    {
     "name": "stdout",
     "output_type": "stream",
     "text": [
      "PI)\tKim\n",
      "Visitor)\tLee\n",
      "PhD)\tJung\n",
      "Postdoc)\tSong\n"
     ]
    }
   ],
   "source": [
    "def print_file(filename):\n",
    "    try:\n",
    "        with open(filename, 'r') as file:\n",
    "            for line in file:\n",
    "                last_name, role = line.strip().split(': ')\n",
    "                print(f'{role})\\t{last_name}')\n",
    "\n",
    "    except Exception as e:\n",
    "        print(f'An error occurred while reading {filename}: {e}')\n",
    "\n",
    "file_to_read = input('Enter the file to read: ')\n",
    "print_file(file_to_read)"
   ]
  }
 ],
 "metadata": {
  "kernelspec": {
   "display_name": "env1",
   "language": "python",
   "name": "python3"
  },
  "language_info": {
   "codemirror_mode": {
    "name": "ipython",
    "version": 3
   },
   "file_extension": ".py",
   "mimetype": "text/x-python",
   "name": "python",
   "nbconvert_exporter": "python",
   "pygments_lexer": "ipython3",
   "version": "3.12.4"
  }
 },
 "nbformat": 4,
 "nbformat_minor": 2
}
