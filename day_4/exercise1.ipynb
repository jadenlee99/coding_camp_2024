{
 "cells": [
  {
   "cell_type": "code",
   "execution_count": 2,
   "metadata": {},
   "outputs": [
    {
     "name": "stdout",
     "output_type": "stream",
     "text": [
      "0) sdfkjsdlkfjKslafjlsakdjflsadkjdfjskldfjlskdjflksdjflksdjf'\n",
      "\n",
      "1) d\n",
      "\n",
      "2) f\n",
      "\n",
      "3) asd\n",
      "\n",
      "4) fas\n",
      "\n",
      "5) df\n",
      "\n",
      "6) sad\n",
      "\n",
      "7) fas\n",
      "\n",
      "8) df\n",
      "\n",
      "9) sadf\n",
      "\n",
      "10) ads\n",
      "\n",
      "11) f\n",
      "\n",
      "12) asd\n",
      "\n",
      "13) f\n",
      "\n",
      "14) sad\n",
      "\n",
      "15) fa\n",
      "\n"
     ]
    }
   ],
   "source": [
    "file_path = input(\"Enter the file path: \")\n",
    "\n",
    "try:\n",
    "    with open(file_path, 'r') as file:\n",
    "        lines = file.readlines()\n",
    "\n",
    "    for i in range(len(lines) - 1):\n",
    "        print(f\"{i}) {lines[i]}\")\n",
    "\n",
    "except FileNotFoundError:\n",
    "    print('The file does not exist.')\n",
    "except Exception as e:\n",
    "    print(f'An error eccurred: {e}')"
   ]
  }
 ],
 "metadata": {
  "kernelspec": {
   "display_name": "env1",
   "language": "python",
   "name": "python3"
  },
  "language_info": {
   "codemirror_mode": {
    "name": "ipython",
    "version": 3
   },
   "file_extension": ".py",
   "mimetype": "text/x-python",
   "name": "python",
   "nbconvert_exporter": "python",
   "pygments_lexer": "ipython3",
   "version": "3.12.4"
  }
 },
 "nbformat": 4,
 "nbformat_minor": 2
}
