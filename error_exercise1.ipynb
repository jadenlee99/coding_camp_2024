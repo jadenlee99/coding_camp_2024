{
 "cells": [
  {
   "cell_type": "code",
   "execution_count": 4,
   "metadata": {},
   "outputs": [
    {
     "ename": "RuntimeError",
     "evalue": "Good luck fixing this error",
     "output_type": "error",
     "traceback": [
      "\u001b[0;31m---------------------------------------------------------------------------\u001b[0m",
      "\u001b[0;31mZeroDivisionError\u001b[0m                         Traceback (most recent call last)",
      "Cell \u001b[0;32mIn[4], line 2\u001b[0m\n\u001b[1;32m      1\u001b[0m \u001b[38;5;28;01mtry\u001b[39;00m:\n\u001b[0;32m----> 2\u001b[0m     myval \u001b[38;5;241m=\u001b[39m \u001b[38;5;241m13.0\u001b[39m \u001b[38;5;241m/\u001b[39m ((\u001b[38;5;241m169\u001b[39m \u001b[38;5;241m-\u001b[39m \u001b[38;5;241m42\u001b[39m) \u001b[38;5;241m/\u001b[39m \u001b[38;5;241m127\u001b[39m \u001b[38;5;241m-\u001b[39m \u001b[38;5;241m1\u001b[39m)\n\u001b[1;32m      3\u001b[0m \u001b[38;5;28;01mexcept\u001b[39;00m:\n",
      "\u001b[0;31mZeroDivisionError\u001b[0m: float division by zero",
      "\nDuring handling of the above exception, another exception occurred:\n",
      "\u001b[0;31mRuntimeError\u001b[0m                              Traceback (most recent call last)",
      "Cell \u001b[0;32mIn[4], line 4\u001b[0m\n\u001b[1;32m      2\u001b[0m     myval \u001b[38;5;241m=\u001b[39m \u001b[38;5;241m13.0\u001b[39m \u001b[38;5;241m/\u001b[39m ((\u001b[38;5;241m169\u001b[39m \u001b[38;5;241m-\u001b[39m \u001b[38;5;241m42\u001b[39m) \u001b[38;5;241m/\u001b[39m \u001b[38;5;241m127\u001b[39m \u001b[38;5;241m-\u001b[39m \u001b[38;5;241m1\u001b[39m)\n\u001b[1;32m      3\u001b[0m \u001b[38;5;28;01mexcept\u001b[39;00m:\n\u001b[0;32m----> 4\u001b[0m     \u001b[38;5;28;01mraise\u001b[39;00m \u001b[38;5;167;01mRuntimeError\u001b[39;00m(\u001b[38;5;124m\"\u001b[39m\u001b[38;5;124mGood luck fixing this error\u001b[39m\u001b[38;5;124m\"\u001b[39m)\n",
      "\u001b[0;31mRuntimeError\u001b[0m: Good luck fixing this error"
     ]
    }
   ],
   "source": [
    "try:\n",
    "    myval = 13.0 / ((169 - 42) / 127 - 1)\n",
    "except:\n",
    "    raise RuntimeError(\"Good luck fixing this error\")"
   ]
  }
 ],
 "metadata": {
  "kernelspec": {
   "display_name": "env1",
   "language": "python",
   "name": "python3"
  },
  "language_info": {
   "codemirror_mode": {
    "name": "ipython",
    "version": 3
   },
   "file_extension": ".py",
   "mimetype": "text/x-python",
   "name": "python",
   "nbconvert_exporter": "python",
   "pygments_lexer": "ipython3",
   "version": "3.12.4"
  }
 },
 "nbformat": 4,
 "nbformat_minor": 2
}
