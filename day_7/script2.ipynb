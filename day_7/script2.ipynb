{
 "cells": [
  {
   "cell_type": "code",
   "execution_count": null,
   "metadata": {},
   "outputs": [],
   "source": [
    "class Molecule(object):\n",
    "    def __init__(self, symbols=None, coordinates=None):\n",
    "        if symbols is None:\n",
    "            symbols = []\n",
    "        if coordinates is None:\n",
    "            coordinates = []\n",
    "        self.symbols = symbols\n",
    "        self.coordinates = coordinates\n",
    "\n",
    "    def get_atomi_coordinates(self, i):\n",
    "        return self.coordinates[i-1]\n",
    "\n",
    "    def get_distance(self, atom0_idx, atom1_idx):\n",
    "        atom0 = self.get_atomi_coordinates(atom0_idx)\n",
    "        atom1 = self.get_atomi_coordinates(atom1_idx)\n"
   ]
  }
 ],
 "metadata": {
  "language_info": {
   "name": "python"
  }
 },
 "nbformat": 4,
 "nbformat_minor": 2
}
